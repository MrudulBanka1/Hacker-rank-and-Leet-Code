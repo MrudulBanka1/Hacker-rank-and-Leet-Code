{
 "cells": [
  {
   "cell_type": "code",
   "execution_count": 3,
   "metadata": {},
   "outputs": [
    {
     "data": {
      "text/plain": [
       "1"
      ]
     },
     "execution_count": 3,
     "metadata": {},
     "output_type": "execute_result"
    }
   ],
   "source": [
    "s='DDUUUUDD'\n",
    "s = list(s)\n",
    "num_of_valleys = 0        # number of valleys\n",
    "level = 0              # starts at sea level\n",
    "for i in s:\n",
    "    if s == 'U':       # going upslope\n",
    "        level += 1\n",
    "    else:              # going downslope\n",
    "        if level == 0:\n",
    "            num_valleys += 1\n",
    "        level -= 1\n",
    "num_valleys"
   ]
  },
  {
   "cell_type": "code",
   "execution_count": null,
   "metadata": {},
   "outputs": [],
   "source": []
  }
 ],
 "metadata": {
  "kernelspec": {
   "display_name": "Python 3",
   "language": "python",
   "name": "python3"
  },
  "language_info": {
   "codemirror_mode": {
    "name": "ipython",
    "version": 3
   },
   "file_extension": ".py",
   "mimetype": "text/x-python",
   "name": "python",
   "nbconvert_exporter": "python",
   "pygments_lexer": "ipython3",
   "version": "3.6.8"
  }
 },
 "nbformat": 4,
 "nbformat_minor": 2
}
