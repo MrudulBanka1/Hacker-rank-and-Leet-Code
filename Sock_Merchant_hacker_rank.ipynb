{
 "cells": [
  {
   "cell_type": "code",
   "execution_count": 28,
   "metadata": {},
   "outputs": [],
   "source": [
    "def sockMerchant(n, ar):\n",
    "    count = 0\n",
    "    d={}\n",
    "    number_of_sock_colors = set(ar)\n",
    "    for i in ar:\n",
    "        print(i)\n",
    "        for color in number_of_sock_colors:\n",
    "            if i == color:\n",
    "                d[color] = i\n",
    "    return d"
   ]
  },
  {
   "cell_type": "code",
   "execution_count": 29,
   "metadata": {},
   "outputs": [],
   "source": [
    "n = 7\n",
    "ar =[1,2,1,3,1,2,2]"
   ]
  },
  {
   "cell_type": "code",
   "execution_count": 30,
   "metadata": {},
   "outputs": [
    {
     "name": "stdout",
     "output_type": "stream",
     "text": [
      "1\n",
      "2\n",
      "1\n",
      "3\n",
      "1\n",
      "2\n",
      "2\n"
     ]
    },
    {
     "data": {
      "text/plain": [
       "{1: 1, 2: 2, 3: 3}"
      ]
     },
     "execution_count": 30,
     "metadata": {},
     "output_type": "execute_result"
    }
   ],
   "source": [
    "result = sockMerchant(n, ar)\n",
    "result"
   ]
  },
  {
   "cell_type": "code",
   "execution_count": 42,
   "metadata": {},
   "outputs": [
    {
     "name": "stdout",
     "output_type": "stream",
     "text": [
      "2\n"
     ]
    }
   ],
   "source": [
    "my_dict = {x:ar.count(x) for x in ar}\n",
    "my_dict\n",
    "for i in my_dict:\n",
    "        my_dict[i] = int(my_dict[i]/2)\n",
    "        result = sum(my_dict.values())\n",
    "print(result)"
   ]
  },
  {
   "cell_type": "code",
   "execution_count": null,
   "metadata": {},
   "outputs": [],
   "source": [
    "\"\"\"\n",
    "\n",
    "\n",
    ">>> L = ['apple','red','apple','red','red','pear']\n",
    ">>> from collections import defaultdict\n",
    ">>> d = defaultdict(int)\n",
    ">>> for i in L:\n",
    "...   d[i] += 1\n",
    ">>> d\n",
    "defaultdict(<type 'int'>, {'pear': 1, 'apple': 2, 'red': 3})\n",
    "\n",
    "a = {k: v / total for k, v in a.iteritems()}\n",
    "\n",
    "\n",
    "#!/bin/python3\n",
    "\n",
    "import math\n",
    "import os\n",
    "import random\n",
    "import re\n",
    "import sys\n",
    "\n",
    "# Complete the sockMerchant function below.\n",
    "def sockMerchant(n, ar):\n",
    "    my_dict = {x:ar.count(x) for x in ar}\n",
    "    for i in my_dict:\n",
    "        my_dict[i] = int(my_dict[i]/2)\n",
    "        result = sum(my_dict.values())\n",
    "    return result\n",
    "\n",
    "if __name__ == '__main__':\n",
    "    fptr = open(os.environ['OUTPUT_PATH'], 'w')\n",
    "\n",
    "    n = int(input())\n",
    "\n",
    "    ar = list(map(int, input().rstrip().split()))\n",
    "\n",
    "    result = sockMerchant(n, ar)\n",
    "\n",
    "    fptr.write(str(result) + '\\n')\n",
    "\n",
    "    fptr.close()\n",
    "    \n",
    "    \n",
    "    int[] pairsToSell = new int[n];\n",
    "        int countToSell = 0;\n",
    "        foreach(int sock in socks) {\n",
    "            var ind = sock % n;\n",
    "            pairsToSell[ind] +=1;\n",
    "            if (pairsToSell[ind] == 2) {\n",
    "                countToSell++;\n",
    "                pairsToSell[ind] = 0;\n",
    "            }\n",
    "        }\n",
    "        \n",
    "        Console.WriteLine(countToSell);\n",
    "\"\"\""
   ]
  }
 ],
 "metadata": {
  "kernelspec": {
   "display_name": "Python 3",
   "language": "python",
   "name": "python3"
  },
  "language_info": {
   "codemirror_mode": {
    "name": "ipython",
    "version": 3
   },
   "file_extension": ".py",
   "mimetype": "text/x-python",
   "name": "python",
   "nbconvert_exporter": "python",
   "pygments_lexer": "ipython3",
   "version": "3.6.8"
  }
 },
 "nbformat": 4,
 "nbformat_minor": 2
}
