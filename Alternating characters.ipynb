{
 "cells": [
  {
   "cell_type": "code",
   "execution_count": 1,
   "metadata": {},
   "outputs": [],
   "source": [
    "a = 'AAAA'\n",
    "b = 'BBBBB'\n",
    "c = 'ABABABAB'\n",
    "d = 'BABABA'\n",
    "e = 'AAABBB'"
   ]
  },
  {
   "cell_type": "code",
   "execution_count": 2,
   "metadata": {},
   "outputs": [
    {
     "data": {
      "text/plain": [
       "['AAAA', 'BBBBB', 'ABABABAB', 'BABABA', 'AAABBB']"
      ]
     },
     "execution_count": 2,
     "metadata": {},
     "output_type": "execute_result"
    }
   ],
   "source": [
    "l = [a, b, c, d, e]\n",
    "l"
   ]
  },
  {
   "cell_type": "code",
   "execution_count": 23,
   "metadata": {},
   "outputs": [
    {
     "name": "stdout",
     "output_type": "stream",
     "text": [
      "[3, 3]\n"
     ]
    }
   ],
   "source": [
    "from collections import Counter   \n",
    "\n",
    "    si = set(i)\n",
    "    if (si == {'A'}) or (si == {'B'}):\n",
    "        result = len(i)-1\n",
    "    else:"
   ]
  },
  {
   "cell_type": "code",
   "execution_count": 27,
   "metadata": {},
   "outputs": [
    {
     "name": "stdout",
     "output_type": "stream",
     "text": [
      "3\n",
      "4\n",
      "0\n",
      "0\n",
      "4\n"
     ]
    }
   ],
   "source": [
    "for i in l:\n",
    "    delete_cnt = 0\n",
    "    for j in range(1,len(i)):\n",
    "        if i[j] == i[j-1]:\n",
    "            delete_cnt +=1\n",
    "    print(delete_cnt)"
   ]
  },
  {
   "cell_type": "code",
   "execution_count": null,
   "metadata": {},
   "outputs": [],
   "source": []
  }
 ],
 "metadata": {
  "kernelspec": {
   "display_name": "Python 3",
   "language": "python",
   "name": "python3"
  },
  "language_info": {
   "codemirror_mode": {
    "name": "ipython",
    "version": 3
   },
   "file_extension": ".py",
   "mimetype": "text/x-python",
   "name": "python",
   "nbconvert_exporter": "python",
   "pygments_lexer": "ipython3",
   "version": "3.6.8"
  }
 },
 "nbformat": 4,
 "nbformat_minor": 2
}
