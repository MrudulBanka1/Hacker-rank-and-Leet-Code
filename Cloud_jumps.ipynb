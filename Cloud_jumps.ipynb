{
 "cells": [
  {
   "cell_type": "code",
   "execution_count": 3,
   "metadata": {},
   "outputs": [
    {
     "name": "stdout",
     "output_type": "stream",
     "text": [
      "3\n",
      "6\n"
     ]
    }
   ],
   "source": [
    "clouds =[0,0,0,0,1,0]\n",
    "n = len(clouds)\n",
    "jumps =0\n",
    "i = 0\n",
    "end = n - 1\n",
    "while i < end:\n",
    "    if ((i + 2) <= end) and (clouds[i + 2] == 0): # This is how you increment the index within a loop\n",
    "        i += 2\n",
    "        jumps += 1\n",
    "    elif clouds[i + 1] == 0:\n",
    "        i += 1\n",
    "        jumps += 1\n",
    "print(jumps)\n",
    "print(n)"
   ]
  },
  {
   "cell_type": "code",
   "execution_count": null,
   "metadata": {},
   "outputs": [],
   "source": []
  }
 ],
 "metadata": {
  "kernelspec": {
   "display_name": "Python 3",
   "language": "python",
   "name": "python3"
  },
  "language_info": {
   "codemirror_mode": {
    "name": "ipython",
    "version": 3
   },
   "file_extension": ".py",
   "mimetype": "text/x-python",
   "name": "python",
   "nbconvert_exporter": "python",
   "pygments_lexer": "ipython3",
   "version": "3.6.8"
  }
 },
 "nbformat": 4,
 "nbformat_minor": 2
}
