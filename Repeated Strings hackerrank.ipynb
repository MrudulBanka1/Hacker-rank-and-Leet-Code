{
 "cells": [
  {
   "cell_type": "code",
   "execution_count": 42,
   "metadata": {},
   "outputs": [
    {
     "name": "stdout",
     "output_type": "stream",
     "text": [
      "10 3 1\n"
     ]
    }
   ],
   "source": [
    "s= 'aba'\n",
    "l = len(s)\n",
    "n = 10\n",
    "d = n%l\n",
    "sl = s*l\n",
    "# fc = s[0]\n",
    "# fc1 = s[1]\n",
    "# fc2 = s[2]\n",
    "# print(s, n, l, sl, d, fc, fc1,fc2)\n",
    "print(n, l,d)"
   ]
  },
  {
   "cell_type": "code",
   "execution_count": 43,
   "metadata": {},
   "outputs": [
    {
     "name": "stdout",
     "output_type": "stream",
     "text": [
      "a\n",
      "abaabaabaa\n",
      "7\n"
     ]
    }
   ],
   "source": [
    "for i in range(d):\n",
    "    fc = s[i]\n",
    "    print(fc)\n",
    "    sl= sl+s[i]\n",
    "    print(sl)\n",
    "    \n",
    "print(sl.count('a'))"
   ]
  },
  {
   "cell_type": "code",
   "execution_count": 52,
   "metadata": {},
   "outputs": [
    {
     "name": "stdout",
     "output_type": "stream",
     "text": [
      "aaaaaaaaaa\n",
      "0\n",
      "10\n"
     ]
    }
   ],
   "source": [
    "s = 'a'\n",
    "l = len(s)\n",
    "n = 10\n",
    "d = n%l\n",
    "\n",
    "if d==0:\n",
    "    sl = s*n\n",
    "    print(sl)\n",
    "else:\n",
    "    for i in range(d):\n",
    "        fc = s[i]\n",
    "        sl= sl+s[i]\n",
    "print(sl.count('a'))"
   ]
  },
  {
   "cell_type": "code",
   "execution_count": 53,
   "metadata": {},
   "outputs": [
    {
     "name": "stdout",
     "output_type": "stream",
     "text": [
      "10\n"
     ]
    }
   ],
   "source": [
    "s = 'a'\n",
    "n = 10\n",
    "l = len(s)\n",
    "d = int(n%l)\n",
    "if d==0:\n",
    "    sl = s*n\n",
    "else:\n",
    "    sl = s*l\n",
    "    for i in range(d):\n",
    "        fc = s[i]\n",
    "        sl= sl+s[i]     \n",
    "result = sl.count('a')\n",
    "print(result)"
   ]
  },
  {
   "cell_type": "code",
   "execution_count": 54,
   "metadata": {},
   "outputs": [
    {
     "name": "stdout",
     "output_type": "stream",
     "text": [
      "10\n"
     ]
    }
   ],
   "source": [
    "segment_length = len(s)\n",
    "segment_count = s.count(\"a\")\n",
    "ratio = n // segment_length\n",
    "remainder = segment_length - n % segment_length\n",
    "first_segments_count = ratio * segment_count\n",
    "last_partial_segment_count = s.count(\"a\", 0, segment_length - remainder)\n",
    "result = first_segments_count + last_partial_segment_count\n",
    "print(result)"
   ]
  },
  {
   "cell_type": "code",
   "execution_count": null,
   "metadata": {},
   "outputs": [],
   "source": []
  }
 ],
 "metadata": {
  "kernelspec": {
   "display_name": "Python 3",
   "language": "python",
   "name": "python3"
  },
  "language_info": {
   "codemirror_mode": {
    "name": "ipython",
    "version": 3
   },
   "file_extension": ".py",
   "mimetype": "text/x-python",
   "name": "python",
   "nbconvert_exporter": "python",
   "pygments_lexer": "ipython3",
   "version": "3.6.8"
  }
 },
 "nbformat": 4,
 "nbformat_minor": 2
}
